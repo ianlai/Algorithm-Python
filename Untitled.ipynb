{
 "cells": [
  {
   "cell_type": "code",
   "execution_count": null,
   "metadata": {},
   "outputs": [],
   "source": [
    "class Node:\n",
    "    def __init__(self, val = 0):\n",
    "        self.arr = [val]\n",
    "        self.next = None\n",
    "    \n",
    "class UnrolledLinkedList():\n",
    "    def __init__(self, capacity):\n",
    "        self.capacity = capacity \n",
    "        self.preHead = Node()\n",
    "        \n",
    "    def append(self, val):\n",
    "        pre = self.preHead\n",
    "        cur = pre.next\n",
    "        if cur:\n",
    "            while cur:\n",
    "                cur = cur.next\n",
    "                pre = pre.next\n",
    "        else:\n",
    "            pre.next = Node(val)\n",
    "            cur = pre.next\n",
    "            \n",
    "        if len(pre.arr) < self.capacity:\n",
    "            pre.arr.append(val)\n",
    "        else:\n",
    "            pre.next = Node(val)\n",
    "    \n",
    "    def printlist(self):\n",
    "        pre = self.preHead\n",
    "        cur = pre.next\n",
    "        while cur:\n",
    "            print(cur.arr, \"->\", end = \"\")\n",
    "            cur = cur.next\n",
    "        print()\n",
    "        \n",
    "    def index(self, idx):\n",
    "        cur = self.preHead.next\n",
    "        if not cur:\n",
    "            return -1\n",
    "        while cur:\n",
    "            if idx >= len(cur.arr):\n",
    "                idx -= len(cur.arr)\n",
    "                cur = cur.next\n",
    "            else:\n",
    "                return cur.arr[idx]\n",
    "        return -1\n",
    "    \n",
    "    def insert(self, idx, val): \n",
    "        pre = self.preHead\n",
    "        cur = pre.next\n",
    "        if not cur:\n",
    "            if idx == 0:\n",
    "                cur = Node(val)\n",
    "                pre.next = cur\n",
    "            else:\n",
    "                print(\"Insert idx is invalid\")\n",
    "                return -1\n",
    "        \n",
    "        while cur:\n",
    "            if idx >= len(cur.arr):\n",
    "                idx -= len(cur.arr)\n",
    "                cur = cur.next\n",
    "                pre = pre.next\n",
    "            else:\n",
    "                #size < capacity\n",
    "                if len(cur.arr) < self.capacity:\n",
    "                    cur.arr.insert(idx, val)\n",
    "                #size >= capacity \n",
    "                else:\n",
    "                    cur.arr.insert(idx, val)\n",
    "                    nextHead = cur.next\n",
    "                    cur.next = Node(cur.arr[-1])\n",
    "                    cur.arr.pop() \n",
    "                    cur.next.next = nextHead\n",
    "                \n",
    "        return -1\n"
   ]
  },
  {
   "cell_type": "code",
   "execution_count": null,
   "metadata": {},
   "outputs": [],
   "source": [
    "mylist = UnrolledLinkedList(5)\n",
    "mylist.append(0)\n",
    "mylist.append(1)\n",
    "mylist.append(2)\n",
    "mylist.append(3)\n",
    "mylist.append(4)\n",
    "mylist.append(5)\n",
    "mylist.append(6)\n",
    "mylist.append(7)\n",
    "mylist.append(8)\n",
    "mylist.append(9)\n",
    "mylist.append(10)\n",
    "mylist.append(11)\n",
    "mylist.append(12)"
   ]
  },
  {
   "cell_type": "code",
   "execution_count": null,
   "metadata": {},
   "outputs": [],
   "source": [
    "mylist.insert(2, 9)"
   ]
  },
  {
   "cell_type": "code",
   "execution_count": null,
   "metadata": {},
   "outputs": [],
   "source": [
    "mylist.printlist()"
   ]
  },
  {
   "cell_type": "code",
   "execution_count": null,
   "metadata": {},
   "outputs": [],
   "source": [
    "for i in range(12):\n",
    "    print(mylist.index(i))"
   ]
  },
  {
   "cell_type": "code",
   "execution_count": 1,
   "metadata": {},
   "outputs": [],
   "source": [
    "s = \"abc\""
   ]
  },
  {
   "cell_type": "code",
   "execution_count": 2,
   "metadata": {},
   "outputs": [
    {
     "data": {
      "text/plain": [
       "''"
      ]
     },
     "execution_count": 2,
     "metadata": {},
     "output_type": "execute_result"
    }
   ],
   "source": [
    "s[0:0]"
   ]
  },
  {
   "cell_type": "code",
   "execution_count": 3,
   "metadata": {},
   "outputs": [],
   "source": [
    "sset = set()"
   ]
  },
  {
   "cell_type": "code",
   "execution_count": 8,
   "metadata": {},
   "outputs": [],
   "source": [
    "sdict = {}\n",
    "sdict[1] = \"111\"\n",
    "sdict[2] = \"222\"\n",
    "del sdict[1]"
   ]
  },
  {
   "cell_type": "code",
   "execution_count": 9,
   "metadata": {},
   "outputs": [
    {
     "name": "stdout",
     "output_type": "stream",
     "text": [
      "{2: '222'}\n"
     ]
    }
   ],
   "source": [
    "print(sdict)"
   ]
  },
  {
   "cell_type": "code",
   "execution_count": 11,
   "metadata": {},
   "outputs": [],
   "source": [
    "sset.add(1)\n",
    "sset.add(2)"
   ]
  },
  {
   "cell_type": "code",
   "execution_count": 15,
   "metadata": {},
   "outputs": [
    {
     "name": "stdout",
     "output_type": "stream",
     "text": [
      "{1}\n"
     ]
    }
   ],
   "source": [
    "print(sset)"
   ]
  },
  {
   "cell_type": "code",
   "execution_count": 14,
   "metadata": {},
   "outputs": [],
   "source": [
    "sset.remove(2)"
   ]
  },
  {
   "cell_type": "code",
   "execution_count": 16,
   "metadata": {},
   "outputs": [],
   "source": [
    "s = [1,2,3]"
   ]
  },
  {
   "cell_type": "code",
   "execution_count": 19,
   "metadata": {},
   "outputs": [
    {
     "data": {
      "text/plain": [
       "[1]"
      ]
     },
     "execution_count": 19,
     "metadata": {},
     "output_type": "execute_result"
    }
   ],
   "source": [
    "s[:1]"
   ]
  },
  {
   "cell_type": "code",
   "execution_count": null,
   "metadata": {},
   "outputs": [],
   "source": []
  }
 ],
 "metadata": {
  "kernelspec": {
   "display_name": "Python 3",
   "language": "python",
   "name": "python3"
  },
  "language_info": {
   "codemirror_mode": {
    "name": "ipython",
    "version": 3
   },
   "file_extension": ".py",
   "mimetype": "text/x-python",
   "name": "python",
   "nbconvert_exporter": "python",
   "pygments_lexer": "ipython3",
   "version": "3.7.7"
  }
 },
 "nbformat": 4,
 "nbformat_minor": 2
}
